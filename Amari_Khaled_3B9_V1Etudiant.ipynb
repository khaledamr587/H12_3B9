{
 "cells": [
  {
   "cell_type": "markdown",
   "id": "567dc55c",
   "metadata": {},
   "source": [
    "##  <span style=\"color:red\">Consignes pour l'examen </span>"
   ]
  },
  {
   "cell_type": "markdown",
   "id": "2852c194",
   "metadata": {},
   "source": [
    "\n",
    "-1 Veuillez enregistrer le code source selon le format suivant : \"nom_prénom_classe\"\n",
    "\n",
    "-2 Seuls les documents fournis par votre enseignant sont autorisés.\n",
    "\n",
    "-3 Internet n'est pas autorisé. Veuillez activer le mode avion et désactiver le Wifi.\n",
    "\n",
    "-4 Toute utilisation d'Internet (sur PC ou smartphone) sera considérée comme une tentative de fraude.\n",
    "\n",
    "-5 Lorsqu'un étudiant quitte la salle de classe, il n'est plus autorisé à récupérer le code source du travail effectué.\n",
    "\n",
    "-6 Veuillez vous assurer de vérifier soigneusement votre code avant la récupération. Chaque étudiant est responsable du code qu'il soumet, et aucune réclamation ne sera acceptée une fois que vous aurez quitté la salle."
   ]
  },
  {
   "cell_type": "markdown",
   "id": "22330a2b",
   "metadata": {},
   "source": [
    "# <span style=\"color:blue\">Le jeu de données </span>"
   ]
  },
  {
   "cell_type": "markdown",
   "id": "d67451de",
   "metadata": {},
   "source": [
    "### Objectif \n",
    "L'objectif est de prédire le prix du véhicule en fonction de trois variables explicatives; $\\texttt{Variable1}$, $\\texttt{Variable2}$ et $\\texttt{Variable3}$ dans le jeu de données automobile $\\texttt{autos.txt}$.\n",
    "\n",
    "La formule de régression linéaire multiple est :\n",
    "\n",
    "$$\n",
    "\\text{Prix} = \\beta_0 + \\beta_1 \\times \\text{Variable1} + \\beta_2 \\times \\text{Variable2} + \\beta_3 \\times \\text{Variable3},\n",
    "$$\n",
    "avec les trois variables explicatives : la taille du moteur (**engine_size**), la puissance du moteur (**horsepower**), et la consommation en ville (**city_mpg**).\n",
    "\n",
    "### Description du jeu de données\n",
    "\n",
    "Ce jeu de données contient des informations sur diverses caractéristiques / attributs des véhicules, y compris leurs spécifications et prix. Chaque ligne représente un véhicule différent, et chaque colonne représente :\n",
    "\n",
    "- **make** : La marque ou la marque du véhicule.\n",
    "- **fuel_type** : Le type de carburant utilisé par le véhicule (par exemple, essence, diesel).\n",
    "- **aspiration** : Le type de système d'aspiration du moteur (par exemple, standard, turbo).\n",
    "- **num_of_doors** : Le nombre de portes du véhicule.\n",
    "- **body_style** : Le style ou type de carrosserie du véhicule (par exemple, berline, hatchback).\n",
    "- **drive_wheels** : Le type de roues motrices (par exemple, traction avant, propulsion arrière, traction intégrale).\n",
    "- **engine_location** : L'emplacement du moteur dans le véhicule (par exemple, avant, arrière).\n",
    "- **length** : La longueur du véhicule.\n",
    "- **width** : La largeur du véhicule.\n",
    "- **height** : La hauteur du véhicule.\n",
    "- **engine_type** : Le type de moteur (par exemple, OHV, OHC).\n",
    "- **num_of_cylinders** : Le nombre de cylindres du moteur.\n",
    "- **engine_size** : La taille du moteur (en centimètres cubes).\n",
    "- **compression_ratio** : Le taux de compression du moteur.\n",
    "- **horsepower** : La puissance du véhicule (en chevaux).\n",
    "- **peak_rpm** : Le régime moteur maximal (en tours par minute).\n",
    "- **city_mpg** : La consommation de carburant en ville (miles par gallon).\n",
    "- **highway_mpg** : La consommation de carburant sur autoroute (miles par gallon).\n",
    "- **price** : Le prix du véhicule.\n"
   ]
  },
  {
   "cell_type": "markdown",
   "id": "640c217f",
   "metadata": {},
   "source": [
    "#  1. Importer les bibliothèques requises <span style=\"color:green\">(1 pt) </span>"
   ]
  },
  {
   "cell_type": "code",
   "execution_count": 11,
   "id": "c0e7ea56",
   "metadata": {},
   "outputs": [],
   "source": [
    "# Importer les bibliothèques requises\n",
    "import numpy as np\n",
    "import pandas as pd\n",
    "import seaborn as sns\n"
   ]
  },
  {
   "cell_type": "code",
   "execution_count": null,
   "id": "c76f0d4a-8b29-41da-b216-157524353540",
   "metadata": {
    "id": "3801e49b"
   },
   "outputs": [],
   "source": []
  },
  {
   "cell_type": "code",
   "execution_count": 3,
   "id": "c8fc4c62-389e-49dc-a410-a00ebe7567d7",
   "metadata": {},
   "outputs": [
    {
     "name": "stdout",
     "output_type": "stream",
     "text": [
      "Requirement already satisfied: pandas in c:\\users\\khale\\appdata\\local\\programs\\python\\python312\\lib\\site-packages (2.2.3)\n",
      "Requirement already satisfied: numpy>=1.26.0 in c:\\users\\khale\\appdata\\local\\programs\\python\\python312\\lib\\site-packages (from pandas) (2.1.2)\n",
      "Requirement already satisfied: python-dateutil>=2.8.2 in c:\\users\\khale\\appdata\\local\\programs\\python\\python312\\lib\\site-packages (from pandas) (2.9.0.post0)\n",
      "Requirement already satisfied: pytz>=2020.1 in c:\\users\\khale\\appdata\\local\\programs\\python\\python312\\lib\\site-packages (from pandas) (2024.2)\n",
      "Requirement already satisfied: tzdata>=2022.7 in c:\\users\\khale\\appdata\\local\\programs\\python\\python312\\lib\\site-packages (from pandas) (2024.2)\n",
      "Requirement already satisfied: six>=1.5 in c:\\users\\khale\\appdata\\local\\programs\\python\\python312\\lib\\site-packages (from python-dateutil>=2.8.2->pandas) (1.16.0)\n"
     ]
    },
    {
     "name": "stderr",
     "output_type": "stream",
     "text": [
      "\n",
      "[notice] A new release of pip is available: 24.2 -> 24.3.1\n",
      "[notice] To update, run: python.exe -m pip install --upgrade pip\n"
     ]
    }
   ],
   "source": []
  },
  {
   "cell_type": "markdown",
   "id": "9162afc4",
   "metadata": {},
   "source": [
    "# 2. Importer le jeu de données: 'autos.txt' "
   ]
  },
  {
   "cell_type": "code",
   "execution_count": 18,
   "id": "5691f671",
   "metadata": {},
   "outputs": [
    {
     "ename": "FileNotFoundError",
     "evalue": "[Errno 2] No such file or directory: 'C:\\\\Users\\\\khale\\\\Downloads\\\\autos.csv'",
     "output_type": "error",
     "traceback": [
      "\u001b[1;31m---------------------------------------------------------------------------\u001b[0m",
      "\u001b[1;31mFileNotFoundError\u001b[0m                         Traceback (most recent call last)",
      "Cell \u001b[1;32mIn[18], line 2\u001b[0m\n\u001b[0;32m      1\u001b[0m \u001b[38;5;66;03m# Charger le dataset\u001b[39;00m\n\u001b[1;32m----> 2\u001b[0m df \u001b[38;5;241m=\u001b[39m \u001b[43mpd\u001b[49m\u001b[38;5;241;43m.\u001b[39;49m\u001b[43mread_csv\u001b[49m\u001b[43m(\u001b[49m\u001b[38;5;124;43mr\u001b[39;49m\u001b[38;5;124;43m\"\u001b[39;49m\u001b[38;5;124;43mC:\u001b[39;49m\u001b[38;5;124;43m\\\u001b[39;49m\u001b[38;5;124;43mUsers\u001b[39;49m\u001b[38;5;124;43m\\\u001b[39;49m\u001b[38;5;124;43mkhale\u001b[39;49m\u001b[38;5;124;43m\\\u001b[39;49m\u001b[38;5;124;43mDownloads\u001b[39;49m\u001b[38;5;124;43m\\\u001b[39;49m\u001b[38;5;124;43mautos.csv\u001b[39;49m\u001b[38;5;124;43m\"\u001b[39;49m\u001b[43m)\u001b[49m\n\u001b[0;32m      3\u001b[0m \u001b[38;5;28mprint\u001b[39m(df\u001b[38;5;241m.\u001b[39mhead())\n",
      "File \u001b[1;32m~\\AppData\\Local\\Programs\\Python\\Python312\\Lib\\site-packages\\pandas\\io\\parsers\\readers.py:1026\u001b[0m, in \u001b[0;36mread_csv\u001b[1;34m(filepath_or_buffer, sep, delimiter, header, names, index_col, usecols, dtype, engine, converters, true_values, false_values, skipinitialspace, skiprows, skipfooter, nrows, na_values, keep_default_na, na_filter, verbose, skip_blank_lines, parse_dates, infer_datetime_format, keep_date_col, date_parser, date_format, dayfirst, cache_dates, iterator, chunksize, compression, thousands, decimal, lineterminator, quotechar, quoting, doublequote, escapechar, comment, encoding, encoding_errors, dialect, on_bad_lines, delim_whitespace, low_memory, memory_map, float_precision, storage_options, dtype_backend)\u001b[0m\n\u001b[0;32m   1013\u001b[0m kwds_defaults \u001b[38;5;241m=\u001b[39m _refine_defaults_read(\n\u001b[0;32m   1014\u001b[0m     dialect,\n\u001b[0;32m   1015\u001b[0m     delimiter,\n\u001b[1;32m   (...)\u001b[0m\n\u001b[0;32m   1022\u001b[0m     dtype_backend\u001b[38;5;241m=\u001b[39mdtype_backend,\n\u001b[0;32m   1023\u001b[0m )\n\u001b[0;32m   1024\u001b[0m kwds\u001b[38;5;241m.\u001b[39mupdate(kwds_defaults)\n\u001b[1;32m-> 1026\u001b[0m \u001b[38;5;28;01mreturn\u001b[39;00m \u001b[43m_read\u001b[49m\u001b[43m(\u001b[49m\u001b[43mfilepath_or_buffer\u001b[49m\u001b[43m,\u001b[49m\u001b[43m \u001b[49m\u001b[43mkwds\u001b[49m\u001b[43m)\u001b[49m\n",
      "File \u001b[1;32m~\\AppData\\Local\\Programs\\Python\\Python312\\Lib\\site-packages\\pandas\\io\\parsers\\readers.py:620\u001b[0m, in \u001b[0;36m_read\u001b[1;34m(filepath_or_buffer, kwds)\u001b[0m\n\u001b[0;32m    617\u001b[0m _validate_names(kwds\u001b[38;5;241m.\u001b[39mget(\u001b[38;5;124m\"\u001b[39m\u001b[38;5;124mnames\u001b[39m\u001b[38;5;124m\"\u001b[39m, \u001b[38;5;28;01mNone\u001b[39;00m))\n\u001b[0;32m    619\u001b[0m \u001b[38;5;66;03m# Create the parser.\u001b[39;00m\n\u001b[1;32m--> 620\u001b[0m parser \u001b[38;5;241m=\u001b[39m \u001b[43mTextFileReader\u001b[49m\u001b[43m(\u001b[49m\u001b[43mfilepath_or_buffer\u001b[49m\u001b[43m,\u001b[49m\u001b[43m \u001b[49m\u001b[38;5;241;43m*\u001b[39;49m\u001b[38;5;241;43m*\u001b[39;49m\u001b[43mkwds\u001b[49m\u001b[43m)\u001b[49m\n\u001b[0;32m    622\u001b[0m \u001b[38;5;28;01mif\u001b[39;00m chunksize \u001b[38;5;129;01mor\u001b[39;00m iterator:\n\u001b[0;32m    623\u001b[0m     \u001b[38;5;28;01mreturn\u001b[39;00m parser\n",
      "File \u001b[1;32m~\\AppData\\Local\\Programs\\Python\\Python312\\Lib\\site-packages\\pandas\\io\\parsers\\readers.py:1620\u001b[0m, in \u001b[0;36mTextFileReader.__init__\u001b[1;34m(self, f, engine, **kwds)\u001b[0m\n\u001b[0;32m   1617\u001b[0m     \u001b[38;5;28mself\u001b[39m\u001b[38;5;241m.\u001b[39moptions[\u001b[38;5;124m\"\u001b[39m\u001b[38;5;124mhas_index_names\u001b[39m\u001b[38;5;124m\"\u001b[39m] \u001b[38;5;241m=\u001b[39m kwds[\u001b[38;5;124m\"\u001b[39m\u001b[38;5;124mhas_index_names\u001b[39m\u001b[38;5;124m\"\u001b[39m]\n\u001b[0;32m   1619\u001b[0m \u001b[38;5;28mself\u001b[39m\u001b[38;5;241m.\u001b[39mhandles: IOHandles \u001b[38;5;241m|\u001b[39m \u001b[38;5;28;01mNone\u001b[39;00m \u001b[38;5;241m=\u001b[39m \u001b[38;5;28;01mNone\u001b[39;00m\n\u001b[1;32m-> 1620\u001b[0m \u001b[38;5;28mself\u001b[39m\u001b[38;5;241m.\u001b[39m_engine \u001b[38;5;241m=\u001b[39m \u001b[38;5;28;43mself\u001b[39;49m\u001b[38;5;241;43m.\u001b[39;49m\u001b[43m_make_engine\u001b[49m\u001b[43m(\u001b[49m\u001b[43mf\u001b[49m\u001b[43m,\u001b[49m\u001b[43m \u001b[49m\u001b[38;5;28;43mself\u001b[39;49m\u001b[38;5;241;43m.\u001b[39;49m\u001b[43mengine\u001b[49m\u001b[43m)\u001b[49m\n",
      "File \u001b[1;32m~\\AppData\\Local\\Programs\\Python\\Python312\\Lib\\site-packages\\pandas\\io\\parsers\\readers.py:1880\u001b[0m, in \u001b[0;36mTextFileReader._make_engine\u001b[1;34m(self, f, engine)\u001b[0m\n\u001b[0;32m   1878\u001b[0m     \u001b[38;5;28;01mif\u001b[39;00m \u001b[38;5;124m\"\u001b[39m\u001b[38;5;124mb\u001b[39m\u001b[38;5;124m\"\u001b[39m \u001b[38;5;129;01mnot\u001b[39;00m \u001b[38;5;129;01min\u001b[39;00m mode:\n\u001b[0;32m   1879\u001b[0m         mode \u001b[38;5;241m+\u001b[39m\u001b[38;5;241m=\u001b[39m \u001b[38;5;124m\"\u001b[39m\u001b[38;5;124mb\u001b[39m\u001b[38;5;124m\"\u001b[39m\n\u001b[1;32m-> 1880\u001b[0m \u001b[38;5;28mself\u001b[39m\u001b[38;5;241m.\u001b[39mhandles \u001b[38;5;241m=\u001b[39m \u001b[43mget_handle\u001b[49m\u001b[43m(\u001b[49m\n\u001b[0;32m   1881\u001b[0m \u001b[43m    \u001b[49m\u001b[43mf\u001b[49m\u001b[43m,\u001b[49m\n\u001b[0;32m   1882\u001b[0m \u001b[43m    \u001b[49m\u001b[43mmode\u001b[49m\u001b[43m,\u001b[49m\n\u001b[0;32m   1883\u001b[0m \u001b[43m    \u001b[49m\u001b[43mencoding\u001b[49m\u001b[38;5;241;43m=\u001b[39;49m\u001b[38;5;28;43mself\u001b[39;49m\u001b[38;5;241;43m.\u001b[39;49m\u001b[43moptions\u001b[49m\u001b[38;5;241;43m.\u001b[39;49m\u001b[43mget\u001b[49m\u001b[43m(\u001b[49m\u001b[38;5;124;43m\"\u001b[39;49m\u001b[38;5;124;43mencoding\u001b[39;49m\u001b[38;5;124;43m\"\u001b[39;49m\u001b[43m,\u001b[49m\u001b[43m \u001b[49m\u001b[38;5;28;43;01mNone\u001b[39;49;00m\u001b[43m)\u001b[49m\u001b[43m,\u001b[49m\n\u001b[0;32m   1884\u001b[0m \u001b[43m    \u001b[49m\u001b[43mcompression\u001b[49m\u001b[38;5;241;43m=\u001b[39;49m\u001b[38;5;28;43mself\u001b[39;49m\u001b[38;5;241;43m.\u001b[39;49m\u001b[43moptions\u001b[49m\u001b[38;5;241;43m.\u001b[39;49m\u001b[43mget\u001b[49m\u001b[43m(\u001b[49m\u001b[38;5;124;43m\"\u001b[39;49m\u001b[38;5;124;43mcompression\u001b[39;49m\u001b[38;5;124;43m\"\u001b[39;49m\u001b[43m,\u001b[49m\u001b[43m \u001b[49m\u001b[38;5;28;43;01mNone\u001b[39;49;00m\u001b[43m)\u001b[49m\u001b[43m,\u001b[49m\n\u001b[0;32m   1885\u001b[0m \u001b[43m    \u001b[49m\u001b[43mmemory_map\u001b[49m\u001b[38;5;241;43m=\u001b[39;49m\u001b[38;5;28;43mself\u001b[39;49m\u001b[38;5;241;43m.\u001b[39;49m\u001b[43moptions\u001b[49m\u001b[38;5;241;43m.\u001b[39;49m\u001b[43mget\u001b[49m\u001b[43m(\u001b[49m\u001b[38;5;124;43m\"\u001b[39;49m\u001b[38;5;124;43mmemory_map\u001b[39;49m\u001b[38;5;124;43m\"\u001b[39;49m\u001b[43m,\u001b[49m\u001b[43m \u001b[49m\u001b[38;5;28;43;01mFalse\u001b[39;49;00m\u001b[43m)\u001b[49m\u001b[43m,\u001b[49m\n\u001b[0;32m   1886\u001b[0m \u001b[43m    \u001b[49m\u001b[43mis_text\u001b[49m\u001b[38;5;241;43m=\u001b[39;49m\u001b[43mis_text\u001b[49m\u001b[43m,\u001b[49m\n\u001b[0;32m   1887\u001b[0m \u001b[43m    \u001b[49m\u001b[43merrors\u001b[49m\u001b[38;5;241;43m=\u001b[39;49m\u001b[38;5;28;43mself\u001b[39;49m\u001b[38;5;241;43m.\u001b[39;49m\u001b[43moptions\u001b[49m\u001b[38;5;241;43m.\u001b[39;49m\u001b[43mget\u001b[49m\u001b[43m(\u001b[49m\u001b[38;5;124;43m\"\u001b[39;49m\u001b[38;5;124;43mencoding_errors\u001b[39;49m\u001b[38;5;124;43m\"\u001b[39;49m\u001b[43m,\u001b[49m\u001b[43m \u001b[49m\u001b[38;5;124;43m\"\u001b[39;49m\u001b[38;5;124;43mstrict\u001b[39;49m\u001b[38;5;124;43m\"\u001b[39;49m\u001b[43m)\u001b[49m\u001b[43m,\u001b[49m\n\u001b[0;32m   1888\u001b[0m \u001b[43m    \u001b[49m\u001b[43mstorage_options\u001b[49m\u001b[38;5;241;43m=\u001b[39;49m\u001b[38;5;28;43mself\u001b[39;49m\u001b[38;5;241;43m.\u001b[39;49m\u001b[43moptions\u001b[49m\u001b[38;5;241;43m.\u001b[39;49m\u001b[43mget\u001b[49m\u001b[43m(\u001b[49m\u001b[38;5;124;43m\"\u001b[39;49m\u001b[38;5;124;43mstorage_options\u001b[39;49m\u001b[38;5;124;43m\"\u001b[39;49m\u001b[43m,\u001b[49m\u001b[43m \u001b[49m\u001b[38;5;28;43;01mNone\u001b[39;49;00m\u001b[43m)\u001b[49m\u001b[43m,\u001b[49m\n\u001b[0;32m   1889\u001b[0m \u001b[43m\u001b[49m\u001b[43m)\u001b[49m\n\u001b[0;32m   1890\u001b[0m \u001b[38;5;28;01massert\u001b[39;00m \u001b[38;5;28mself\u001b[39m\u001b[38;5;241m.\u001b[39mhandles \u001b[38;5;129;01mis\u001b[39;00m \u001b[38;5;129;01mnot\u001b[39;00m \u001b[38;5;28;01mNone\u001b[39;00m\n\u001b[0;32m   1891\u001b[0m f \u001b[38;5;241m=\u001b[39m \u001b[38;5;28mself\u001b[39m\u001b[38;5;241m.\u001b[39mhandles\u001b[38;5;241m.\u001b[39mhandle\n",
      "File \u001b[1;32m~\\AppData\\Local\\Programs\\Python\\Python312\\Lib\\site-packages\\pandas\\io\\common.py:873\u001b[0m, in \u001b[0;36mget_handle\u001b[1;34m(path_or_buf, mode, encoding, compression, memory_map, is_text, errors, storage_options)\u001b[0m\n\u001b[0;32m    868\u001b[0m \u001b[38;5;28;01melif\u001b[39;00m \u001b[38;5;28misinstance\u001b[39m(handle, \u001b[38;5;28mstr\u001b[39m):\n\u001b[0;32m    869\u001b[0m     \u001b[38;5;66;03m# Check whether the filename is to be opened in binary mode.\u001b[39;00m\n\u001b[0;32m    870\u001b[0m     \u001b[38;5;66;03m# Binary mode does not support 'encoding' and 'newline'.\u001b[39;00m\n\u001b[0;32m    871\u001b[0m     \u001b[38;5;28;01mif\u001b[39;00m ioargs\u001b[38;5;241m.\u001b[39mencoding \u001b[38;5;129;01mand\u001b[39;00m \u001b[38;5;124m\"\u001b[39m\u001b[38;5;124mb\u001b[39m\u001b[38;5;124m\"\u001b[39m \u001b[38;5;129;01mnot\u001b[39;00m \u001b[38;5;129;01min\u001b[39;00m ioargs\u001b[38;5;241m.\u001b[39mmode:\n\u001b[0;32m    872\u001b[0m         \u001b[38;5;66;03m# Encoding\u001b[39;00m\n\u001b[1;32m--> 873\u001b[0m         handle \u001b[38;5;241m=\u001b[39m \u001b[38;5;28;43mopen\u001b[39;49m\u001b[43m(\u001b[49m\n\u001b[0;32m    874\u001b[0m \u001b[43m            \u001b[49m\u001b[43mhandle\u001b[49m\u001b[43m,\u001b[49m\n\u001b[0;32m    875\u001b[0m \u001b[43m            \u001b[49m\u001b[43mioargs\u001b[49m\u001b[38;5;241;43m.\u001b[39;49m\u001b[43mmode\u001b[49m\u001b[43m,\u001b[49m\n\u001b[0;32m    876\u001b[0m \u001b[43m            \u001b[49m\u001b[43mencoding\u001b[49m\u001b[38;5;241;43m=\u001b[39;49m\u001b[43mioargs\u001b[49m\u001b[38;5;241;43m.\u001b[39;49m\u001b[43mencoding\u001b[49m\u001b[43m,\u001b[49m\n\u001b[0;32m    877\u001b[0m \u001b[43m            \u001b[49m\u001b[43merrors\u001b[49m\u001b[38;5;241;43m=\u001b[39;49m\u001b[43merrors\u001b[49m\u001b[43m,\u001b[49m\n\u001b[0;32m    878\u001b[0m \u001b[43m            \u001b[49m\u001b[43mnewline\u001b[49m\u001b[38;5;241;43m=\u001b[39;49m\u001b[38;5;124;43m\"\u001b[39;49m\u001b[38;5;124;43m\"\u001b[39;49m\u001b[43m,\u001b[49m\n\u001b[0;32m    879\u001b[0m \u001b[43m        \u001b[49m\u001b[43m)\u001b[49m\n\u001b[0;32m    880\u001b[0m     \u001b[38;5;28;01melse\u001b[39;00m:\n\u001b[0;32m    881\u001b[0m         \u001b[38;5;66;03m# Binary mode\u001b[39;00m\n\u001b[0;32m    882\u001b[0m         handle \u001b[38;5;241m=\u001b[39m \u001b[38;5;28mopen\u001b[39m(handle, ioargs\u001b[38;5;241m.\u001b[39mmode)\n",
      "\u001b[1;31mFileNotFoundError\u001b[0m: [Errno 2] No such file or directory: 'C:\\\\Users\\\\khale\\\\Downloads\\\\autos.csv'"
     ]
    }
   ],
   "source": [
    "# Charger le dataset\n",
    "df = pd.read_csv(r\"C:\\Users\\khale\\Downloads\\autos.csv\")\n",
    "print(df.head())"
   ]
  },
  {
   "cell_type": "markdown",
   "id": "6c702b73",
   "metadata": {},
   "source": [
    "# 3. Afficher la dimension du jeu de données <span style=\"color:green\">(0.5 pt) </span>"
   ]
  },
  {
   "cell_type": "code",
   "execution_count": null,
   "id": "5b2ab523",
   "metadata": {},
   "outputs": [],
   "source": [
    "# Afficher la dimension du jeu de données\n",
    "df.shape\n"
   ]
  },
  {
   "cell_type": "markdown",
   "id": "f833b1d1",
   "metadata": {},
   "source": [
    "# 4. Afficher les 5 premier lignes du jeu de données <span style=\"color:green\">(0.5 pt) </span>"
   ]
  },
  {
   "cell_type": "code",
   "execution_count": null,
   "id": "8daf2ae7",
   "metadata": {},
   "outputs": [],
   "source": [
    "# Afficher les 5 premier lignes\n",
    "df.head()\n"
   ]
  },
  {
   "cell_type": "markdown",
   "id": "7766fe29",
   "metadata": {},
   "source": [
    "# 5. Afficher les noms des colonnes <span style=\"color:green\">(0.5 pt) </span>"
   ]
  },
  {
   "cell_type": "code",
   "execution_count": null,
   "id": "69d17d86",
   "metadata": {},
   "outputs": [],
   "source": [
    "# Afficher les noms des colonnes\n",
    "df.columns"
   ]
  },
  {
   "cell_type": "markdown",
   "id": "0cc46d0f",
   "metadata": {},
   "source": [
    "# 6. Afficher les informations sur le jeu de données <span style=\"color:green\">(0.5 pt) </span>"
   ]
  },
  {
   "cell_type": "code",
   "execution_count": null,
   "id": "038809ed",
   "metadata": {},
   "outputs": [],
   "source": [
    "# Afficher les informations\n",
    "df.info()\n"
   ]
  },
  {
   "cell_type": "markdown",
   "id": "61d6c056",
   "metadata": {},
   "source": [
    "# 7: Calculer la répartition des véhicules en fonction de l'aspiration. <span style=\"color:green\">(1 pt) </span>"
   ]
  },
  {
   "cell_type": "code",
   "execution_count": null,
   "id": "6313661d",
   "metadata": {},
   "outputs": [],
   "source": []
  },
  {
   "cell_type": "markdown",
   "id": "9daf2af6",
   "metadata": {},
   "source": [
    "# 8. Calculer le coefficient de corrélation entre $\\texttt{engine\\_size}$ et  $\\texttt{price}$. <span style=\"color:green\">(0.5 pt) </span>"
   ]
  },
  {
   "cell_type": "code",
   "execution_count": null,
   "id": "27cb776c",
   "metadata": {},
   "outputs": [],
   "source": []
  },
  {
   "cell_type": "markdown",
   "id": "607d6a44",
   "metadata": {},
   "source": [
    "# 9. Visualiser les distributions (boxplot) des variables explicatives $\\texttt{engine\\_size}$, $\\texttt{horsepower}$, $\\texttt{city\\_mpg}$, ainsi que de la variable cible $\\texttt{price}$. <span style=\"color:green\">(2 pt) </span>"
   ]
  },
  {
   "cell_type": "code",
   "execution_count": null,
   "id": "23424142",
   "metadata": {},
   "outputs": [],
   "source": []
  },
  {
   "cell_type": "markdown",
   "id": "ddf3ceb3",
   "metadata": {},
   "source": [
    "# 10. Commenter le resultat affiché. <span style=\"color:green\">(1 pt) </span>"
   ]
  },
  {
   "cell_type": "code",
   "execution_count": null,
   "id": "fb846266",
   "metadata": {},
   "outputs": [],
   "source": [
    "# Commenter le resultat affiché.\n"
   ]
  },
  {
   "cell_type": "markdown",
   "id": "8f0929ba",
   "metadata": {},
   "source": [
    "# 11. Créer une nouvelle dataset contenant les variables explicatives $\\texttt{engine\\_size}$, $\\texttt{horsepower}$, $\\texttt{city\\_mpg}$, et la variable cible $\\texttt{price}$. <span style=\"color:green\">(0.5 pt) </span>"
   ]
  },
  {
   "cell_type": "code",
   "execution_count": null,
   "id": "d8f76f45",
   "metadata": {},
   "outputs": [],
   "source": [
    "df_new="
   ]
  },
  {
   "cell_type": "markdown",
   "id": "af7f7c0a",
   "metadata": {},
   "source": [
    "# 12.  Exécuter et interpréter le code suivant ? <span style=\"color:green\">(1 pt) </span>"
   ]
  },
  {
   "cell_type": "code",
   "execution_count": 10,
   "id": "6449dfca",
   "metadata": {},
   "outputs": [
    {
     "ename": "NameError",
     "evalue": "name 'df_new' is not defined",
     "output_type": "error",
     "traceback": [
      "\u001b[1;31m---------------------------------------------------------------------------\u001b[0m",
      "\u001b[1;31mNameError\u001b[0m                                 Traceback (most recent call last)",
      "Cell \u001b[1;32mIn[10], line 17\u001b[0m\n\u001b[0;32m     14\u001b[0m     \u001b[38;5;28;01mreturn\u001b[39;00m df\n\u001b[0;32m     16\u001b[0m \u001b[38;5;66;03m# \u001b[39;00m\n\u001b[1;32m---> 17\u001b[0m \u001b[38;5;28;01mfor\u001b[39;00m column \u001b[38;5;129;01min\u001b[39;00m \u001b[43mdf_new\u001b[49m\u001b[38;5;241m.\u001b[39mcolumns:\n\u001b[0;32m     18\u001b[0m     df_new \u001b[38;5;241m=\u001b[39m imp_out_med(df_new, column)\n",
      "\u001b[1;31mNameError\u001b[0m: name 'df_new' is not defined"
     ]
    }
   ],
   "source": [
    "def imp_out_med(df, column):\n",
    "    # \n",
    "    Q1 = df[column].quantile(0.25)\n",
    "    Q3 = df[column].quantile(0.75)\n",
    "    IQR = Q3 - Q1\n",
    "    \n",
    "    # \n",
    "    lower_bound = Q1 - 1.5 * IQR\n",
    "    upper_bound = Q3 + 1.5 * IQR\n",
    "    \n",
    "    # \n",
    "    df[column] = df[column].apply(lambda x: df[column].median() if x < lower_bound or x > upper_bound else x)\n",
    "    \n",
    "    return df\n",
    "\n",
    "# \n",
    "for column in df_new.columns:\n",
    "    df_new = imp_out_med(df_new, column)"
   ]
  },
  {
   "cell_type": "markdown",
   "id": "b9db6d4c",
   "metadata": {},
   "source": [
    "# Réponse:"
   ]
  },
  {
   "cell_type": "markdown",
   "id": "35f12563",
   "metadata": {},
   "source": [
    "....................................................................................\n",
    "...................................................................................."
   ]
  },
  {
   "cell_type": "markdown",
   "id": "9ca05397",
   "metadata": {},
   "source": [
    "# 13. Vérifier s'il y a de valeurs manquantes dans les variables explicatives et la cible. <span style=\"color:green\">(1 pt) </span>"
   ]
  },
  {
   "cell_type": "code",
   "execution_count": null,
   "id": "e3b17329",
   "metadata": {},
   "outputs": [],
   "source": []
  },
  {
   "cell_type": "markdown",
   "id": "8681136c",
   "metadata": {},
   "source": [
    "# 14. Diviser le dataset en deux tableaux (caracatéristiques et target): <span style=\"color:green\">(1.5 pt) </span>\n",
    "  * X : contenant  les colonnes $\\texttt{engine\\_size}$, $\\texttt{horsepower}$, $\\texttt{city\\_mpg}$\n",
    "  * y : contenant la colonne $\\texttt{price}$"
   ]
  },
  {
   "cell_type": "code",
   "execution_count": null,
   "id": "0875237a",
   "metadata": {},
   "outputs": [],
   "source": [
    "X_train,Y_train,X_test,Y_test=train_test_split(X,Y,test_size=0.2,Random_state0.8)"
   ]
  },
  {
   "cell_type": "markdown",
   "id": "71847daf",
   "metadata": {},
   "source": [
    "# 15. Diviser les données en ensembles d'entraînement (80\\%) et de test (20\\%), afficher la dimension de chaque ensemble <span style=\"color:green\">(2 pt) </span>"
   ]
  },
  {
   "cell_type": "code",
   "execution_count": null,
   "id": "626ba1a0",
   "metadata": {},
   "outputs": [],
   "source": [
    "X_train,Y_train,X_test,Y_test=train_test_split(X,Y,test_size=0.2,Random_state=0.8)"
   ]
  },
  {
   "cell_type": "markdown",
   "id": "9232d386",
   "metadata": {},
   "source": [
    "# 16. Créer un modèle de régression linéaire multiple<span style=\"color:green\">(0.5 pt) </span>"
   ]
  },
  {
   "cell_type": "code",
   "execution_count": null,
   "id": "70587f80",
   "metadata": {},
   "outputs": [],
   "source": [
    "open('model.pkl'.'wb') as f:\n",
    "pickle.dump(model.f)"
   ]
  },
  {
   "cell_type": "markdown",
   "id": "33499703",
   "metadata": {},
   "source": [
    "# 17. Entraîner le modèle sur les données d'entraînement <span style=\"color:green\">(1 pt) </span>"
   ]
  },
  {
   "cell_type": "code",
   "execution_count": null,
   "id": "8f57ff04",
   "metadata": {},
   "outputs": [],
   "source": []
  },
  {
   "cell_type": "markdown",
   "id": "f81670d8",
   "metadata": {},
   "source": [
    "# 18. Afficher les coefficients de modèle. <span style=\"color:green\">(1 pt) </span>"
   ]
  },
  {
   "cell_type": "code",
   "execution_count": null,
   "id": "a558ec16",
   "metadata": {},
   "outputs": [],
   "source": []
  },
  {
   "cell_type": "markdown",
   "id": "1bb8a123",
   "metadata": {},
   "source": [
    "# 19. Utiliser l'ensemble de test pour générer des prédictions. <span style=\"color:green\">(1 pt) </span>"
   ]
  },
  {
   "cell_type": "code",
   "execution_count": null,
   "id": "b23531ed",
   "metadata": {},
   "outputs": [],
   "source": [
    "Y_pred=model.predict(X_test)"
   ]
  },
  {
   "cell_type": "markdown",
   "id": "fb25ef60",
   "metadata": {},
   "source": [
    "# 20.  Evaluer les performances du modèle en calculant l'erreur quadratique moyenne (MSE) et le coefficient de détermination $R^2$. <span style=\"color:green\"> (1 pt) </span>"
   ]
  },
  {
   "cell_type": "code",
   "execution_count": null,
   "id": "973186cd",
   "metadata": {},
   "outputs": [],
   "source": []
  },
  {
   "cell_type": "markdown",
   "id": "3ab79dae",
   "metadata": {},
   "source": [
    "# 21. Intérepréter les valeurs obtenues <span style=\"color:green\">(0.5 pt) </span>"
   ]
  },
  {
   "cell_type": "markdown",
   "id": "1f549a97",
   "metadata": {},
   "source": [
    " Répense: ........................................................................................"
   ]
  },
  {
   "cell_type": "markdown",
   "id": "4f3d92a7",
   "metadata": {},
   "source": [
    "# 22. Visualiser la comparaison entre les prix réels et les prix prédits pour évaluer qualitativement la performance du modèle.  <span style=\"color:green\"> (1.5 pt) </span>"
   ]
  },
  {
   "cell_type": "code",
   "execution_count": null,
   "id": "5bc28d13",
   "metadata": {},
   "outputs": [],
   "source": [
    "#reponse\n"
   ]
  }
 ],
 "metadata": {
  "kernelspec": {
   "display_name": "Python 3 (ipykernel)",
   "language": "python",
   "name": "python3"
  },
  "language_info": {
   "codemirror_mode": {
    "name": "ipython",
    "version": 3
   },
   "file_extension": ".py",
   "mimetype": "text/x-python",
   "name": "python",
   "nbconvert_exporter": "python",
   "pygments_lexer": "ipython3",
   "version": "3.12.6"
  }
 },
 "nbformat": 4,
 "nbformat_minor": 5
}
